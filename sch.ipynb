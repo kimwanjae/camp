{
 "cells": [
  {
   "cell_type": "markdown",
   "metadata": {},
   "source": [
    "## 인공지능 자동 분류기 개발 하기"
   ]
  },
  {
   "cell_type": "code",
   "execution_count": 1,
   "metadata": {},
   "outputs": [],
   "source": [
    "# 필요한 라이브러리 불러오기\n",
    "\n",
    "import cv2\n",
    "import numpy as np\n",
    "import time\n",
    "import serial\n",
    "import serial.tools.list_ports\n",
    "import tensorflow.keras\n",
    "from tensorflow.keras.models import model_from_json"
   ]
  },
  {
   "cell_type": "code",
   "execution_count": 2,
   "metadata": {},
   "outputs": [
    {
     "name": "stdout",
     "output_type": "stream",
     "text": [
      "\n",
      " microbit USB detected:  COM9\n"
     ]
    }
   ],
   "source": [
    "# 마이크로비트 연결 com 포트 찾기\n",
    "\n",
    "ports = serial.tools.list_ports.comports()\n",
    "com = ''\n",
    "for port, desc, hwid in sorted(ports):       \n",
    "    if 'USB' in desc:\n",
    "        com = port\n",
    "if com != '':\n",
    "    print('\\n microbit USB detected: ', com)\n",
    "else:\n",
    "    print('\\nPlease connect your microbit to this PC via USB')\n",
    "\n",
    "ser = serial.Serial(com, 115200, timeout=0, parity=serial.PARITY_NONE, rtscts=0)"
   ]
  },
  {
   "cell_type": "code",
   "execution_count": 3,
   "metadata": {},
   "outputs": [],
   "source": [
    "def SerialSendCommand(cmd):\n",
    "    cmd = str(cmd) \n",
    "    cmd  = cmd + '\\n'\n",
    "    cmd = str.encode(cmd) \n",
    "    ser.write(cmd)  "
   ]
  },
  {
   "cell_type": "code",
   "execution_count": 9,
   "metadata": {},
   "outputs": [],
   "source": [
    "# servo motor align\n",
    "align = 85\n",
    "SerialSendCommand(align)\n",
    "\n",
    "# set crop\n",
    "top = .55\n",
    "bottom = .25"
   ]
  },
  {
   "cell_type": "code",
   "execution_count": 5,
   "metadata": {},
   "outputs": [
    {
     "name": "stdout",
     "output_type": "stream",
     "text": [
      "labels =  ['0 Blue', '1 Green', '2 None']\n"
     ]
    }
   ],
   "source": [
    "# 라벨 불러오기\n",
    "labels = []\n",
    "file = open(\"labels.txt\", \"r\")\n",
    "for x in file:\n",
    "  labels.append(x.rstrip('\\n'))\n",
    "label_count = len(labels)\n",
    "print('labels = ', labels)\n",
    "file.close()\n",
    "\n",
    "# 인공지능 모델 불러오기\n",
    "model = tensorflow.keras.models.load_model('keras_model.h5', compile = False)"
   ]
  },
  {
   "cell_type": "code",
   "execution_count": 6,
   "metadata": {},
   "outputs": [],
   "source": [
    "def ReadPicture(cropped, model, frame):\n",
    "    \n",
    "    score = 0\n",
    "    scoreLabel = 0 \n",
    "    \n",
    "    # 구글 teachable Machine 'Export your model to use it in projects' 코드 참조 시작\n",
    "    input_width = 224\n",
    "    input_height = 224\n",
    "    resized_image = cv2.resize(cropped, (input_width, input_height))\n",
    "    imgRGB =cv2.cvtColor(resized_image, cv2.COLOR_BGR2RGB)\n",
    "    \n",
    "    image_array = np.asarray(imgRGB)    \n",
    "    normalized_image = (image_array.astype(np.float32) / 127.0) - 1\n",
    "    batch = normalized_image.reshape(1, input_height, input_width, 3)\n",
    "    prediction = model.predict(batch)\n",
    "    # 구글 teachable Machine 'Export your model to use it in projects' 코드 참조 끝\n",
    "    \n",
    "    for x in range(0, label_count):\n",
    "        if score < prediction[0][x]:\n",
    "            scoreLabel = x\n",
    "            score = prediction[0][x]\n",
    "    return scoreLabel, score"
   ]
  },
  {
   "cell_type": "code",
   "execution_count": 7,
   "metadata": {},
   "outputs": [],
   "source": [
    " def Main():\n",
    "        \n",
    "    MODE_PAUSE = -1 \n",
    "    MODE_START = 0\n",
    "\n",
    "    mode_status = MODE_PAUSE\n",
    "  \n",
    "    video_capture = cv2.VideoCapture(0)\n",
    "    height = video_capture.get(cv2.CAP_PROP_FRAME_HEIGHT )\n",
    "    width = video_capture.get(cv2.CAP_PROP_FRAME_WIDTH )\n",
    "\n",
    "    y1 = int(height - (height * top))\n",
    "    y2 = int(height - (height * bottom))\n",
    "    square = (y2-y1)/2\n",
    "    x1 = int(width/2 - square)\n",
    "    x2 = int(width/2 + square)\n",
    "\n",
    "    tic = int(round(time.time() * 1000)) + 1500\n",
    "\n",
    "    print(\"Press [q] to quit\") \n",
    "    print(\"Press [p] to start/pause\")\n",
    "    \n",
    "    cmd = align\n",
    "    SerialSendCommand(align)\n",
    "    \n",
    "    while(True):\n",
    "\n",
    "        grabbed, frame = video_capture.read()\n",
    "        cropped = frame[y1:y2, x1:x2]\n",
    "\n",
    "        # rectangle around the cropped area\n",
    "        rectangleColor              = (0, 255, 0)\n",
    "        rectangleThickness          = 2\n",
    "        cv2.rectangle(frame, (x1,y1), (x2,y2), rectangleColor, rectangleThickness)\n",
    "\n",
    "        if mode_status == MODE_START:\n",
    "\n",
    "            rectangleColor            = (255,255,255)\n",
    "            cv2.rectangle(frame, (x1,y1), (x2,y2), rectangleColor, rectangleThickness)\n",
    "       \n",
    "            # Every 1 seconds, send prediction to micro:bit\n",
    "            now = int(round(time.time() * 1000))\n",
    "\n",
    "            #run the sorting algorithm\n",
    "            scoreLabel, score = ReadPicture(cropped, model, frame)    \n",
    "        \n",
    "            if cmd == align and now > tic:\n",
    "              \n",
    "                if scoreLabel == 0 and score > .85:\n",
    "                    cmd = align + 75\n",
    "                    print('Send:', labels[scoreLabel])\n",
    "                    tic = int(round(time.time() * 1000)) + 1000\n",
    "                    SerialSendCommand(cmd)\n",
    "\n",
    "                elif scoreLabel == 1 and score > .85:\n",
    "                    cmd = align - 75\n",
    "                    print('Send:', labels[scoreLabel])\n",
    "                    tic = int(round(time.time() * 1000)) + 1000\n",
    "                    SerialSendCommand(cmd)\n",
    "                    \n",
    "                elif scoreLabel == 2:\n",
    "                    pass\n",
    "\n",
    "            elif now > tic and cmd != align:\n",
    "                cmd = align\n",
    "                tic = int(round(time.time() * 1000)) + 1000\n",
    "                SerialSendCommand(cmd)\n",
    "            \n",
    "\n",
    "        # 결과 영상 보기\n",
    "        cv2.imshow(\"Frame\", frame) \n",
    "        key = cv2.waitKey(1) & 0xFF\n",
    "\n",
    "        # 제어문 키보드로 제어하기\n",
    "        if key == ord(\"q\"):\n",
    "            print('Mode: Quit')\n",
    "            break\n",
    "\n",
    "        elif key == ord('p'):\n",
    "            if mode_status != MODE_PAUSE:\n",
    "                mode_status = MODE_PAUSE       \n",
    "                print(\"Mode: Paused\")\n",
    "                SerialSendCommand(align)\n",
    "            elif mode_status == MODE_PAUSE:\n",
    "                mode_status = MODE_START\n",
    "                print (\"Mode: Start\")\n",
    "\n",
    "    video_capture.release()\n",
    "    cv2.destroyAllWindows()\n"
   ]
  },
  {
   "cell_type": "code",
   "execution_count": 10,
   "metadata": {},
   "outputs": [
    {
     "name": "stdout",
     "output_type": "stream",
     "text": [
      "Press [q] to quit\n",
      "Press [p] to start/pause\n",
      "Mode: Start\n",
      "Send: 0 Blue\n",
      "Send: 1 Green\n",
      "Send: 1 Green\n",
      "Mode: Quit\n"
     ]
    }
   ],
   "source": [
    "# 프로그램 실행\n",
    "\n",
    "if __name__ == '__main__': \n",
    "    Main()"
   ]
  },
  {
   "cell_type": "code",
   "execution_count": null,
   "metadata": {},
   "outputs": [],
   "source": []
  }
 ],
 "metadata": {
  "kernelspec": {
   "display_name": "Python 3",
   "language": "python",
   "name": "python3"
  },
  "language_info": {
   "codemirror_mode": {
    "name": "ipython",
    "version": 3
   },
   "file_extension": ".py",
   "mimetype": "text/x-python",
   "name": "python",
   "nbconvert_exporter": "python",
   "pygments_lexer": "ipython3",
   "version": "3.7.7"
  }
 },
 "nbformat": 4,
 "nbformat_minor": 2
}
